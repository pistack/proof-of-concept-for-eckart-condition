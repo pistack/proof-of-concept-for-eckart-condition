{
 "cells": [
  {
   "cell_type": "code",
   "execution_count": 1,
   "metadata": {},
   "outputs": [],
   "source": [
    "import psi4\n",
    "import numpy as np\n",
    "\n",
    "speed_of_light = 299792458\n",
    "hartree_to_joule = 4.35974e-18\n",
    "bohr_to_meter = 5.2918e-11\n",
    "amu_to_kg = 1.66054e-27\n",
    "unit_conversion_factor = hartree_to_joule/(bohr_to_meter)**2/amu_to_kg"
   ]
  },
  {
   "cell_type": "code",
   "execution_count": 2,
   "metadata": {},
   "outputs": [
    {
     "output_type": "stream",
     "name": "stdout",
     "text": [
      "Optimizer: Optimization complete!\n"
     ]
    }
   ],
   "source": [
    "h2o = psi4.geometry(\"\"\"\n",
    "0 1\n",
    "    O            0.000000000000    -0.000000000000    -0.064730226948\n",
    "    H            0.748952681885     0.000000000000     0.513657837538\n",
    "    H           -0.748952681885    -0.000000000000     0.513657837538\n",
    "\"\"\")\n",
    "\n",
    "basis = \"cc-pvdz\"\n",
    "\n",
    "psi4.set_options({'basis':basis,\n",
    "                 'reference':'rhf',\n",
    "                 'scf_type':'pk'})\n",
    "\n",
    "psi4.optimize('hf')\n",
    "H = psi4.hessian('hf')"
   ]
  },
  {
   "cell_type": "code",
   "execution_count": 3,
   "metadata": {},
   "outputs": [],
   "source": [
    "N = h2o.natom()\n",
    "coordinates = np.zeros((N,3))\n",
    "cm_coordinates = np.zeros((N,3))\n",
    "M_vec = []\n",
    "R_cm = np.zeros(3)\n",
    "I = np.zeros((3,3))\n",
    "I0 = 0"
   ]
  },
  {
   "cell_type": "code",
   "execution_count": 4,
   "metadata": {},
   "outputs": [],
   "source": [
    "for i in range(N):\n",
    "    coordinates[i,:] = np.array([h2o.x(i),h2o.y(i),h2o.z(i)])\n",
    "    R_cm += h2o.mass(i)*coordinates[i,:]\n",
    "    lst = [h2o.mass(i),h2o.mass(i),h2o.mass(i)]\n",
    "    M_vec += lst\n",
    "M_vec = np.array(M_vec)\n",
    "R_cm = R_cm*3/np.sum(M_vec)\n",
    "cm_coordinates = coordinates - R_cm\n",
    "for i in range(N):\n",
    "    I += h2o.mass(i)*np.outer(cm_coordinates[i,:],cm_coordinates[i,:])\n",
    "    I0 += h2o.mass(i)*np.dot(cm_coordinates[i,:],cm_coordinates[i,:])\n",
    "I = I0*np.eye(3) - I"
   ]
  },
  {
   "cell_type": "code",
   "execution_count": 5,
   "metadata": {},
   "outputs": [],
   "source": [
    "Ieigval,X = np.linalg.eig(I)"
   ]
  },
  {
   "cell_type": "code",
   "execution_count": 6,
   "metadata": {},
   "outputs": [],
   "source": [
    "# Translational basis\n",
    "S1 = np.zeros((N,3))\n",
    "S2 = np.zeros((N,3))\n",
    "S3 = np.zeros((N,3))\n",
    "# Rotational basis\n",
    "S4 = np.zeros((N,3))\n",
    "S5 = np.zeros((N,3))\n",
    "S6 = np.zeros((N,3))"
   ]
  },
  {
   "cell_type": "code",
   "execution_count": 7,
   "metadata": {},
   "outputs": [],
   "source": [
    "for i in range(N):\n",
    "    S1[i,:] = X[:,0].T\n",
    "    S2[i,:] = X[:,1].T\n",
    "    S3[i,:] = X[:,2].T\n",
    "    S4[i,:] = np.cross(cm_coordinates[i,:],X[:,0].T)\n",
    "    S5[i,:] = np.cross(cm_coordinates[i,:],X[:,1].T)\n",
    "    S6[i,:] = np.cross(cm_coordinates[i,:],X[:,2].T)\n",
    "\n",
    "S1 = np.sqrt(M_vec) * S1.flatten()\n",
    "S2 = np.sqrt(M_vec) * S2.flatten()\n",
    "S3 = np.sqrt(M_vec) * S3.flatten()\n",
    "S4 = np.sqrt(M_vec) * S4.flatten()\n",
    "S5 = np.sqrt(M_vec) * S5.flatten()\n",
    "S6 = np.sqrt(M_vec) * S6.flatten()"
   ]
  },
  {
   "cell_type": "code",
   "execution_count": 8,
   "metadata": {},
   "outputs": [],
   "source": [
    "S = np.zeros((3*N,3*N+6))"
   ]
  },
  {
   "cell_type": "code",
   "execution_count": 9,
   "metadata": {},
   "outputs": [],
   "source": [
    "S[:,0] = S1.T\n",
    "S[:,1] = S2.T\n",
    "S[:,2] = S3.T\n",
    "S[:,3] = S4.T\n",
    "S[:,4] = S5.T\n",
    "S[:,5] = S6.T\n",
    "S[:,6:] = np.eye(3*N)"
   ]
  },
  {
   "cell_type": "code",
   "execution_count": 10,
   "metadata": {},
   "outputs": [],
   "source": [
    "D,tmp = np.linalg.qr(S)"
   ]
  },
  {
   "cell_type": "code",
   "execution_count": 11,
   "metadata": {},
   "outputs": [],
   "source": [
    "H_card = np.array(H)\n",
    "H_weight = (np.outer(M_vec,M_vec))**(-1/2)*H_card\n",
    "H_ext_int = D.T @ H_weight @ D\n",
    "H_int = H_ext_int[6:,6:]"
   ]
  },
  {
   "cell_type": "code",
   "execution_count": 12,
   "metadata": {},
   "outputs": [],
   "source": [
    "normal_mode = np.linalg.eigvals(H_int)"
   ]
  },
  {
   "cell_type": "code",
   "execution_count": 13,
   "metadata": {},
   "outputs": [],
   "source": [
    "all_mode = np.linalg.eigvals(H_weight)"
   ]
  },
  {
   "cell_type": "code",
   "execution_count": 14,
   "metadata": {},
   "outputs": [
    {
     "output_type": "execute_result",
     "data": {
      "text/plain": [
       "array([0.67143628, 0.64036964, 0.11929156])"
      ]
     },
     "metadata": {},
     "execution_count": 14
    }
   ],
   "source": [
    "normal_mode "
   ]
  },
  {
   "cell_type": "code",
   "execution_count": 15,
   "metadata": {},
   "outputs": [
    {
     "output_type": "execute_result",
     "data": {
      "text/plain": [
       "array([ 6.71436277e-01,  6.40369644e-01,  1.19291557e-01,  1.17525098e-05,\n",
       "       -3.29762517e-05,  3.54448810e-05, -7.41383781e-13, -7.32960656e-13,\n",
       "       -7.30265282e-13])"
      ]
     },
     "metadata": {},
     "execution_count": 15
    }
   ],
   "source": [
    "all_mode"
   ]
  }
 ],
 "metadata": {
  "kernelspec": {
   "name": "Python 3.6.12 64-bit ('p4env': conda)",
   "display_name": "Python 3.6.12 64-bit ('p4env': conda)",
   "metadata": {
    "interpreter": {
     "hash": "effd07e26179a8b4f341477f8f85437968ca78959190de699a268146798aebb4"
    }
   }
  },
  "language_info": {
   "codemirror_mode": {
    "name": "ipython",
    "version": 3
   },
   "file_extension": ".py",
   "mimetype": "text/x-python",
   "name": "python",
   "nbconvert_exporter": "python",
   "pygments_lexer": "ipython3",
   "version": "3.6.12-final"
  }
 },
 "nbformat": 4,
 "nbformat_minor": 4
}